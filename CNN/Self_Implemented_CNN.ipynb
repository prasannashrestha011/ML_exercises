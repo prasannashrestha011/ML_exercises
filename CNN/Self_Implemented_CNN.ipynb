{
  "nbformat": 4,
  "nbformat_minor": 0,
  "metadata": {
    "colab": {
      "provenance": [],
      "authorship_tag": "ABX9TyM7Y54wv6Dn83AEWamy7oKI",
      "include_colab_link": true
    },
    "kernelspec": {
      "name": "python3",
      "display_name": "Python 3"
    },
    "language_info": {
      "name": "python"
    }
  },
  "cells": [
    {
      "cell_type": "markdown",
      "metadata": {
        "id": "view-in-github",
        "colab_type": "text"
      },
      "source": [
        "<a href=\"https://colab.research.google.com/github/prasannashrestha011/ML_exercises/blob/main/CNN/Self_Implemented_CNN.ipynb\" target=\"_parent\"><img src=\"https://colab.research.google.com/assets/colab-badge.svg\" alt=\"Open In Colab\"/></a>"
      ]
    },
    {
      "cell_type": "code",
      "execution_count": null,
      "metadata": {
        "id": "M_t8wNj4jt-f"
      },
      "outputs": [],
      "source": [
        "import numpy as np\n",
        "from scipy import signal\n",
        "import random"
      ]
    },
    {
      "cell_type": "code",
      "source": [
        "class Convolution:\n",
        "  def __init__(self,input_shape,kernel_size,depth):\n",
        "    input_depth,input_width,input_height=input_shape\n",
        "    self.depth=depth\n",
        "    self.input_shape=input_shape\n",
        "    self.input_depth=input_depth\n",
        "    self.kernel_size=(depth,input_depth,kernel_size,kernel_size)\n",
        "    self.output_shape=(depth,input_width-kernel_size+1,input_height-kernel_size+1)\n",
        "    self.kernel=np.random.randn(*self.kernel_size)\n",
        "    self.biases=np.random.randn(*self.output_shape)\n",
        "\n",
        "  def forward(self,input):\n",
        "    self.output=np.copy(self.biases)\n",
        "    self.input=input\n",
        "    for i in range(self.depth) :\n",
        "       for j in range(self.input_depth):\n",
        "          self.output+=signal.correlate2d(self.input[i],self.kernel[i,j],mode=\"valid\")\n",
        "    return self.output\n",
        "  def backward(self,output_gradient,lr):\n",
        "    kernel_gradient=np.zeros(self.kernel_size)\n",
        "    input_gradient=np.zeros(self.input_shape)\n",
        "    for i in range(self.depth):\n",
        "      for j in range(self.input_depth):\n",
        "        kernel_gradient[i,j]=signal.correlate2d(self.input[i],output_gradient[i],\"valid\")\n",
        "        input_gradient[i,j]=signal.correlate2d(output_gradient[i],self.kernel[i,j],\"same\")\n",
        "    self.kernel-=lr*kernel_gradient\n",
        "    self.biases-=lr*output_gradient\n",
        "    return input_gradient"
      ],
      "metadata": {
        "id": "BPFAqka13JKx"
      },
      "execution_count": 5,
      "outputs": []
    },
    {
      "cell_type": "code",
      "source": [],
      "metadata": {
        "id": "mlF0xLaRAst0"
      },
      "execution_count": null,
      "outputs": []
    },
    {
      "cell_type": "code",
      "source": [
        "class ReLu:\n",
        "  def forward(self,input):\n",
        "    self.input=input\n",
        "    return np.maximum(input,0)\n",
        "\n",
        "  def backward(self,gradient_output):\n",
        "    gradient_input=gradient_output*(self.input>0)\n",
        "    return gradient_input"
      ],
      "metadata": {
        "id": "JGELAwh-8JAv"
      },
      "execution_count": 7,
      "outputs": []
    },
    {
      "cell_type": "code",
      "source": [
        "# forward operation\n",
        "input_shape=(3,3,3)\n",
        "kernel_size=2\n",
        "depth=2\n",
        "cnn=Convolution(input_shape,kernel_size,depth)\n",
        "input=np.random.randn(*input_shape)\n",
        "cnn.forward(input)"
      ],
      "metadata": {
        "colab": {
          "base_uri": "https://localhost:8080/"
        },
        "id": "XJH231lH5kZP",
        "outputId": "e2f99a07-abdf-40af-b51d-312a8c87f583"
      },
      "execution_count": null,
      "outputs": [
        {
          "output_type": "execute_result",
          "data": {
            "text/plain": [
              "array([[[ 4.52058979, -2.13900785],\n",
              "        [ 0.21869676,  1.0655762 ]],\n",
              "\n",
              "       [[ 3.82127649, -0.48069231],\n",
              "        [ 1.48912285, -1.21517657]]])"
            ]
          },
          "metadata": {},
          "execution_count": 26
        }
      ]
    },
    {
      "cell_type": "code",
      "source": [],
      "metadata": {
        "id": "Ps_og6da4rwn"
      },
      "execution_count": null,
      "outputs": []
    }
  ]
}