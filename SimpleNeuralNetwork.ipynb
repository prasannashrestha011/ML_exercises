{
  "nbformat": 4,
  "nbformat_minor": 0,
  "metadata": {
    "colab": {
      "provenance": [],
      "authorship_tag": "ABX9TyN38VOqyzQbBf9R4hX2Ag3m",
      "include_colab_link": true
    },
    "kernelspec": {
      "name": "python3",
      "display_name": "Python 3"
    },
    "language_info": {
      "name": "python"
    }
  },
  "cells": [
    {
      "cell_type": "markdown",
      "metadata": {
        "id": "view-in-github",
        "colab_type": "text"
      },
      "source": [
        "<a href=\"https://colab.research.google.com/github/prasannashrestha011/NeuralNetworkFromScratch/blob/main/SimpleNeuralNetwork.ipynb\" target=\"_parent\"><img src=\"https://colab.research.google.com/assets/colab-badge.svg\" alt=\"Open In Colab\"/></a>"
      ]
    },
    {
      "cell_type": "code",
      "execution_count": 6,
      "metadata": {
        "colab": {
          "base_uri": "https://localhost:8080/"
        },
        "id": "oz2V3vqKM5em",
        "outputId": "7828d5ed-56c3-4534-b8e1-f4debebd3b0e"
      },
      "outputs": [
        {
          "output_type": "stream",
          "name": "stdout",
          "text": [
            "2.24\n"
          ]
        }
      ],
      "source": [
        "inputs = [0.1, -0.5, 0.6, 0.9]\n",
        "weights = [\n",
        "    [1.1, 0.3, 0.4, 1.2],\n",
        "    [1.2, 0.4, 0.8, 1.5],\n",
        "    [-0.2, 0.4, 0.9, -1.2],\n",
        "]\n",
        "biases = [1, 2, 3]\n",
        "baises=[1,2,3]\n",
        "layers_outputs=[]\n",
        "for neuron_weights,baise in zip(weights,baises):\n",
        "    neuron_output=0\n",
        "    for x,w in zip(inputs,neuron_weights):\n",
        "        neuron_output+=x*w\n",
        "    neuron_output+=baise\n",
        "    layers_outputs.append(neuron_output)\n",
        "print(neuron_output)\n",
        "\n",
        "\n"
      ]
    },
    {
      "cell_type": "code",
      "source": [
        "import numpy as np\n",
        "\n",
        "np.random.seed(0)\n",
        "X=np.random.rand(4,3) # 4 samples containing 3 features\n",
        "\n",
        "class Dense_Layer:\n",
        "    def __init__(self,n_inputs,n_neurons) -> None:\n",
        "      #we initialize the weights using n_inputs and n_neurons\n",
        "        self.weights=np.random.randn(n_inputs,n_neurons)\n",
        "        self.biases=np.zeros((1,n_neurons))\n",
        "        pass\n",
        "    def forward(self,inputs):\n",
        "        self.output=np.dot(inputs,self.weights)+self.biases\n",
        "        return self.output\n",
        "layer_1=Dense_Layer(3,3)\n",
        "output1=layer_1.forward(X)\n",
        "\n",
        "layer_2=Dense_Layer(3,5)\n",
        "output2=layer_2.forward(output1)\n",
        "print(\"Layer 2: \",output2)\n",
        "\n",
        "layer_3=Dense_Layer(5,3)\n",
        "output3=layer_3.forward(output2)\n",
        "print(\"Layer 3: \",output3)\n",
        "\n",
        "layer_4=Dense_Layer(3,1)\n",
        "output4=layer_4.forward(output3)\n",
        "print(\"Layer 4: \",output4)"
      ],
      "metadata": {
        "colab": {
          "base_uri": "https://localhost:8080/"
        },
        "id": "9XS2jDwMIDbh",
        "outputId": "d919ea87-0291-4c14-984d-770ae934175c"
      },
      "execution_count": 71,
      "outputs": [
        {
          "output_type": "stream",
          "name": "stdout",
          "text": [
            "Layer 2:  [[ 3.54084341e-02  1.89447854e+00  3.18022736e+00  3.33140558e+00\n",
            "  -1.35826463e+00]\n",
            " [-6.26240792e-02  1.95419848e+00  2.62287619e+00  2.45772824e+00\n",
            "  -1.31348602e+00]\n",
            " [-2.91006414e-01  2.87472880e+00  5.02124862e+00  3.79465742e+00\n",
            "  -1.65158975e+00]\n",
            " [-4.56986093e-04  1.67000525e+00  3.31592627e+00  3.24777024e+00\n",
            "  -1.13880461e+00]]\n",
            "Layer 3:  [[-5.22277335  0.37541071 -0.51830169]\n",
            " [-4.09997617  0.19266464 -1.00045266]\n",
            " [-8.7915125   2.02855306 -2.09928924]\n",
            " [-5.74812592  0.89046707 -0.51635797]]\n",
            "Layer 4:  [[-1.60054212]\n",
            " [-0.5035385 ]\n",
            " [-1.95916502]\n",
            " [-2.06919059]]\n"
          ]
        }
      ]
    },
    {
      "cell_type": "markdown",
      "source": [
        "![nn.svg](data:image/svg+xml;base64,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)"
      ],
      "metadata": {
        "id": "iB-_yQzVbKf-"
      }
    },
    {
      "cell_type": "code",
      "source": [],
      "metadata": {
        "id": "fQszKCgIbKGe"
      },
      "execution_count": null,
      "outputs": []
    }
  ]
}