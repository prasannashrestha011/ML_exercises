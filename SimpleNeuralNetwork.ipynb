{
  "nbformat": 4,
  "nbformat_minor": 0,
  "metadata": {
    "colab": {
      "provenance": [],
      "authorship_tag": "ABX9TyMfQhYcyoTG5DUlPuCdeHUz",
      "include_colab_link": true
    },
    "kernelspec": {
      "name": "python3",
      "display_name": "Python 3"
    },
    "language_info": {
      "name": "python"
    }
  },
  "cells": [
    {
      "cell_type": "markdown",
      "metadata": {
        "id": "view-in-github",
        "colab_type": "text"
      },
      "source": [
        "<a href=\"https://colab.research.google.com/github/prasannashrestha011/NeuralNetworkFromScratch/blob/main/SimpleNeuralNetwork.ipynb\" target=\"_parent\"><img src=\"https://colab.research.google.com/assets/colab-badge.svg\" alt=\"Open In Colab\"/></a>"
      ]
    },
    {
      "cell_type": "code",
      "execution_count": null,
      "metadata": {
        "colab": {
          "base_uri": "https://localhost:8080/"
        },
        "id": "oz2V3vqKM5em",
        "outputId": "422750a7-b8ee-4644-99cf-166734e8580f"
      },
      "outputs": [
        {
          "output_type": "stream",
          "name": "stdout",
          "text": [
            "2.24\n"
          ]
        }
      ],
      "source": [
        "inputs = [0.1, -0.5, 0.6, 0.9]\n",
        "weights = [\n",
        "    [1.1, 0.3, 0.4, 1.2],\n",
        "    [1.2, 0.4, 0.8, 1.5],\n",
        "    [-0.2, 0.4, 0.9, -1.2]\n",
        "]\n",
        "biases = [1, 2, 3]\n",
        "baises=[1,2,3]\n",
        "layers_outputs=[]\n",
        "for neuron_weights,baise in zip(weights,baises):\n",
        "    neuron_output=0\n",
        "    for x,w in zip(inputs,neuron_weights):\n",
        "        neuron_output+=x*w\n",
        "    neuron_output+=baise\n",
        "    layers_outputs.append(neuron_output)\n",
        "print(neuron_output)\n",
        "\n",
        "\n"
      ]
    }
  ]
}