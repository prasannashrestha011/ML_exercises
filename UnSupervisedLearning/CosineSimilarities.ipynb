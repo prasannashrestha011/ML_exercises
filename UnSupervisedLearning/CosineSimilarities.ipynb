{
  "nbformat": 4,
  "nbformat_minor": 0,
  "metadata": {
    "colab": {
      "provenance": [],
      "authorship_tag": "ABX9TyOepTm7diTg25npbUAOrMUq",
      "include_colab_link": true
    },
    "kernelspec": {
      "name": "python3",
      "display_name": "Python 3"
    },
    "language_info": {
      "name": "python"
    }
  },
  "cells": [
    {
      "cell_type": "markdown",
      "metadata": {
        "id": "view-in-github",
        "colab_type": "text"
      },
      "source": [
        "<a href=\"https://colab.research.google.com/github/prasannashrestha011/ML_exercises/blob/main/CosineSimilarities.ipynb\" target=\"_parent\"><img src=\"https://colab.research.google.com/assets/colab-badge.svg\" alt=\"Open In Colab\"/></a>"
      ]
    },
    {
      "cell_type": "code",
      "source": [
        "import numpy as np\n",
        "import pandas as pd\n",
        "#stemming class from nltk\n",
        "from nltk.stem.porter import PorterStemmer\n",
        "#count vectorizor\n",
        "from sklearn.feature_extraction.text import CountVectorizer\n",
        "#cosine similarties to calculate the similarty measure between movies\n",
        "from sklearn.metrics.pairwise import cosine_similarity"
      ],
      "metadata": {
        "id": "SH0MNmhqEB3D"
      },
      "execution_count": null,
      "outputs": []
    },
    {
      "cell_type": "code",
      "execution_count": null,
      "metadata": {
        "colab": {
          "base_uri": "https://localhost:8080/"
        },
        "id": "jSKX-D9TD98f",
        "outputId": "362f247f-fbf0-4a94-9d8b-a8b5c721f20a"
      },
      "outputs": [
        {
          "output_type": "execute_result",
          "data": {
            "text/plain": [
              "(4806, 3)"
            ]
          },
          "metadata": {},
          "execution_count": 2
        }
      ],
      "source": [
        "url=\"https://raw.githubusercontent.com/hnawaz007/pythondataanalysis/refs/heads/main/ML/data/movies_dataset.csv\"\n",
        "df=pd.read_csv(url)\n",
        "df.shape"
      ]
    },
    {
      "cell_type": "code",
      "source": [
        "ps=PorterStemmer()"
      ],
      "metadata": {
        "id": "zzYn2ZEYEHw7"
      },
      "execution_count": null,
      "outputs": []
    },
    {
      "cell_type": "code",
      "source": [
        "def stem(text):\n",
        "  y=[]\n",
        "  for t in text.split():\n",
        "    y.append(ps.stem(t))\n",
        "  return \" \".join(y)"
      ],
      "metadata": {
        "id": "tOPHk7ceEMtw"
      },
      "execution_count": null,
      "outputs": []
    },
    {
      "cell_type": "code",
      "source": [
        "for idx,row in df.iterrows():\n",
        "  df.loc[idx,'tags']=stem(row['tags'])"
      ],
      "metadata": {
        "id": "uVvsYtaPEWLa"
      },
      "execution_count": null,
      "outputs": []
    },
    {
      "cell_type": "code",
      "source": [
        "cv=CountVectorizer(max_features=5000,stop_words='english')\n",
        "vectors=cv.fit_transform(df['tags']).toarray()"
      ],
      "metadata": {
        "id": "yPuDSfwvEs0E"
      },
      "execution_count": null,
      "outputs": []
    },
    {
      "cell_type": "code",
      "source": [
        "similarities=cosine_similarity(vectors)\n"
      ],
      "metadata": {
        "colab": {
          "base_uri": "https://localhost:8080/"
        },
        "id": "H3pNIPTbE5Uz",
        "outputId": "c166f2b6-2a29-4067-ab62-d42e8370c0dc"
      },
      "execution_count": null,
      "outputs": [
        {
          "output_type": "execute_result",
          "data": {
            "text/plain": [
              "array([[1.        , 0.08346223, 0.0860309 , ..., 0.04499213, 0.        ,\n",
              "        0.        ],\n",
              "       [0.08346223, 1.        , 0.06063391, ..., 0.02378257, 0.        ,\n",
              "        0.02615329],\n",
              "       [0.0860309 , 0.06063391, 1.        , ..., 0.02451452, 0.        ,\n",
              "        0.        ],\n",
              "       ...,\n",
              "       [0.04499213, 0.02378257, 0.02451452, ..., 1.        , 0.03962144,\n",
              "        0.04229549],\n",
              "       [0.        , 0.        , 0.        , ..., 0.03962144, 1.        ,\n",
              "        0.08714204],\n",
              "       [0.        , 0.02615329, 0.        , ..., 0.04229549, 0.08714204,\n",
              "        1.        ]])"
            ]
          },
          "metadata": {},
          "execution_count": 16
        }
      ]
    },
    {
      "cell_type": "code",
      "source": [
        "def recommend(movie):\n",
        "  movie_list=df[df['title'].str.contains(movie)]\n",
        "  if len(movie_list):\n",
        "    movie_idx=movie_list.index[0]\n",
        "    distances=similarities[movie_idx]\n",
        "    movie_list=sorted(list(enumerate(distances)),key=lambda x:x[1],reverse=True)[1:15]\n",
        "    for i in movie_list:\n",
        "      print(df.iloc[i[0]].title)\n",
        "  else:\n",
        "    print(\"No matching movies found\")"
      ],
      "metadata": {
        "id": "vhoyKa-kFKxE"
      },
      "execution_count": null,
      "outputs": []
    },
    {
      "cell_type": "code",
      "source": [
        "recommend(\"Avengers\")"
      ],
      "metadata": {
        "colab": {
          "base_uri": "https://localhost:8080/"
        },
        "id": "EP4UeSndFxxV",
        "outputId": "40996142-be6b-4e92-8f67-aecfc6abf39d"
      },
      "execution_count": null,
      "outputs": [
        {
          "output_type": "stream",
          "name": "stdout",
          "text": [
            "Iron Man 3\n",
            "Iron Man 2\n",
            "Iron Man\n",
            "Thor\n",
            "The Avengers\n",
            "The Wolverine\n",
            "Captain America: Civil War\n",
            "Ant-Man\n",
            "Thor: The Dark World\n",
            "X-Men Origins: Wolverine\n",
            "Superman Returns\n",
            "Guardians of the Galaxy\n",
            "The Helix... Loaded\n",
            "Small Soldiers\n"
          ]
        }
      ]
    }
  ]
}