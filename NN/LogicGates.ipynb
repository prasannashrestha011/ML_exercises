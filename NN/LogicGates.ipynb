{
  "nbformat": 4,
  "nbformat_minor": 0,
  "metadata": {
    "colab": {
      "provenance": [],
      "authorship_tag": "ABX9TyNAJ9CIHXwkniksXr/y6Ci0",
      "include_colab_link": true
    },
    "kernelspec": {
      "name": "python3",
      "display_name": "Python 3"
    },
    "language_info": {
      "name": "python"
    }
  },
  "cells": [
    {
      "cell_type": "markdown",
      "metadata": {
        "id": "view-in-github",
        "colab_type": "text"
      },
      "source": [
        "<a href=\"https://colab.research.google.com/github/prasannashrestha011/NeuralNetworkFromScratch/blob/main/LogicGates.ipynb\" target=\"_parent\"><img src=\"https://colab.research.google.com/assets/colab-badge.svg\" alt=\"Open In Colab\"/></a>"
      ]
    },
    {
      "cell_type": "code",
      "execution_count": 61,
      "metadata": {
        "id": "KT8TLb1Zutx8"
      },
      "outputs": [],
      "source": [
        "import torch\n",
        "import torch.nn as nn\n",
        "import torch.optim as optim\n",
        "from sklearn.model_selection import train_test_split"
      ]
    },
    {
      "cell_type": "markdown",
      "source": [
        "## And gate ##"
      ],
      "metadata": {
        "id": "aWUYkFj87pHc"
      }
    },
    {
      "cell_type": "code",
      "source": [
        "# Input tensor: 4 samples, 2 features each\n",
        "X = torch.tensor([[0, 0],\n",
        "                  [0, 1],\n",
        "                  [1, 0],\n",
        "                  [1, 1]], dtype=torch.float32)\n",
        "\n",
        "# Output tensor: 4 samples\n",
        "y = torch.tensor([[0], [0], [0], [1]], dtype=torch.float32)\n"
      ],
      "metadata": {
        "id": "hhW2GvuTvOI-"
      },
      "execution_count": 62,
      "outputs": []
    },
    {
      "cell_type": "code",
      "source": [
        "class AND_Net(nn.Module):\n",
        "    def __init__(self):\n",
        "        super(AND_Net, self).__init__()\n",
        "        self.fc = nn.Linear(2, 1)  # 2 inputs -> 1 output\n",
        "\n",
        "    def forward(self, x):\n",
        "        x = torch.sigmoid(self.fc(x))  # Sigmoid for binary output\n",
        "        return x\n",
        "\n",
        "model = AND_Net()\n"
      ],
      "metadata": {
        "id": "sWtdawB9vX-Y"
      },
      "execution_count": 63,
      "outputs": []
    },
    {
      "cell_type": "code",
      "source": [
        "criterion = nn.BCELoss()        # Binary Cross Entropy\n",
        "optimizer = optim.SGD(model.parameters(), lr=0.1)\n"
      ],
      "metadata": {
        "id": "qpokXSv0vZpv"
      },
      "execution_count": 64,
      "outputs": []
    },
    {
      "cell_type": "code",
      "source": [
        "epochs = 1000\n",
        "for epoch in range(epochs):\n",
        "    optimizer.zero_grad()\n",
        "    outputs = model(X)\n",
        "    loss = criterion(outputs, y)\n",
        "    loss.backward()\n",
        "    optimizer.step()\n",
        "\n",
        "    if (epoch+1) % 100 == 0:\n",
        "        print(f'Epoch {epoch+1}, Loss: {loss.item():.4f}')\n"
      ],
      "metadata": {
        "id": "4S6rAhtvvd16",
        "outputId": "9791de10-e84e-4639-9289-d7f5bac0c817",
        "colab": {
          "base_uri": "https://localhost:8080/"
        }
      },
      "execution_count": 65,
      "outputs": [
        {
          "output_type": "stream",
          "name": "stdout",
          "text": [
            "Epoch 100, Loss: 0.4641\n",
            "Epoch 200, Loss: 0.3638\n",
            "Epoch 300, Loss: 0.3020\n",
            "Epoch 400, Loss: 0.2596\n",
            "Epoch 500, Loss: 0.2283\n",
            "Epoch 600, Loss: 0.2040\n",
            "Epoch 700, Loss: 0.1845\n",
            "Epoch 800, Loss: 0.1684\n",
            "Epoch 900, Loss: 0.1549\n",
            "Epoch 1000, Loss: 0.1434\n"
          ]
        }
      ]
    },
    {
      "cell_type": "code",
      "source": [
        "with torch.no_grad():\n",
        "    outputs = model(X)\n",
        "    predicted = (outputs > 0.5).float()\n",
        "    print(\"Predicted outputs:\\n\", predicted)\n"
      ],
      "metadata": {
        "id": "EQeL2Wm9vgGx",
        "outputId": "4db26698-c32d-4ee9-9319-8a86c663e9b6",
        "colab": {
          "base_uri": "https://localhost:8080/"
        }
      },
      "execution_count": 66,
      "outputs": [
        {
          "output_type": "stream",
          "name": "stdout",
          "text": [
            "Predicted outputs:\n",
            " tensor([[0.],\n",
            "        [0.],\n",
            "        [0.],\n",
            "        [1.]])\n"
          ]
        }
      ]
    },
    {
      "cell_type": "markdown",
      "source": [
        "##OR gate ##"
      ],
      "metadata": {
        "id": "-D3qm46I7i2p"
      }
    },
    {
      "cell_type": "code",
      "source": [
        "X=torch.tensor([[0,0],\n",
        "                [0,1],\n",
        "                [1,0],\n",
        "                [1,1]],dtype=torch.float32)\n",
        "y=torch.tensor([[0],[1],[1],[1]],dtype=torch.float32)\n",
        "\n"
      ],
      "metadata": {
        "id": "PX_6sRsW3U7K"
      },
      "execution_count": 67,
      "outputs": []
    },
    {
      "cell_type": "code",
      "source": [
        "class OR_NET(nn.Module):\n",
        "  def __init__(self):\n",
        "    super(OR_NET,self).__init__()\n",
        "    self.fc=nn.Linear(2,1)\n",
        "  def forward(self,x):\n",
        "    x=torch.sigmoid(self.fc(x))\n",
        "    return x\n",
        "model=OR_NET()"
      ],
      "metadata": {
        "id": "52HwYz0s3mqN"
      },
      "execution_count": 68,
      "outputs": []
    },
    {
      "cell_type": "code",
      "source": [
        "criterion=nn.BCELoss()\n",
        "optimizer=optim.SGD(params=model.parameters(),lr=0.2)\n"
      ],
      "metadata": {
        "id": "dj56Lk8_4T1M"
      },
      "execution_count": 69,
      "outputs": []
    },
    {
      "cell_type": "code",
      "source": [
        "epochs = 1000\n",
        "for epoch in range(epochs):\n",
        "    optimizer.zero_grad()\n",
        "    outputs = model(X)\n",
        "    loss = criterion(outputs, y)\n",
        "    loss.backward()\n",
        "    optimizer.step()\n",
        "\n",
        "    if (epoch+1) % 100 == 0:\n",
        "        print(f'Epoch {epoch+1}, Loss: {loss.item():.4f}')\n"
      ],
      "metadata": {
        "colab": {
          "base_uri": "https://localhost:8080/"
        },
        "id": "otNm7qf-4ihV",
        "outputId": "4f288b89-e49f-4a88-e482-f1c992904f19"
      },
      "execution_count": 70,
      "outputs": [
        {
          "output_type": "stream",
          "name": "stdout",
          "text": [
            "Epoch 100, Loss: 0.2372\n",
            "Epoch 200, Loss: 0.1672\n",
            "Epoch 300, Loss: 0.1279\n",
            "Epoch 400, Loss: 0.1029\n",
            "Epoch 500, Loss: 0.0857\n",
            "Epoch 600, Loss: 0.0733\n",
            "Epoch 700, Loss: 0.0639\n",
            "Epoch 800, Loss: 0.0566\n",
            "Epoch 900, Loss: 0.0507\n",
            "Epoch 1000, Loss: 0.0459\n"
          ]
        }
      ]
    },
    {
      "cell_type": "code",
      "source": [
        "with torch.no_grad():\n",
        "  outputs=model(X)\n",
        "  predicted=(outputs>0.5).float()\n",
        "  print(\"Predicted output \",predicted)"
      ],
      "metadata": {
        "colab": {
          "base_uri": "https://localhost:8080/"
        },
        "id": "IsZ5Fh_B5gcK",
        "outputId": "c378e2c4-459d-4642-cbf1-1ec180e25d24"
      },
      "execution_count": 71,
      "outputs": [
        {
          "output_type": "stream",
          "name": "stdout",
          "text": [
            "Predicted output  tensor([[0.],\n",
            "        [1.],\n",
            "        [1.],\n",
            "        [1.]])\n"
          ]
        }
      ]
    },
    {
      "cell_type": "markdown",
      "source": [],
      "metadata": {
        "id": "ZctPnThmAbnV"
      }
    },
    {
      "cell_type": "markdown",
      "source": [
        "## X-OR ##\n",
        "\n",
        "x-or gate has a non linear relations.So we used one hidden layer to find the relation.\n",
        "<img src=\"https://sdmntprwestus.oaiusercontent.com/files/00000000-3908-6230-8496-f4871559432d/raw?se=2025-09-12T04%3A37%3A15Z&sp=r&sv=2024-08-04&sr=b&scid=34658bc4-32b2-5a08-bd6d-bc4127867bcf&skoid=b64a43d9-3512-45c2-98b4-dea55d094240&sktid=a48cca56-e6da-484e-a814-9c849652bcb3&skt=2025-09-11T21%3A58%3A52Z&ske=2025-09-12T21%3A58%3A52Z&sks=b&skv=2024-08-04&sig=dyFOb2ICT8QvydvRoPtSEUkYKWiF7yh4dZ0hkUd2i2U%3D\n",
        "\"\n",
        "width=\"500\"\n",
        "/>"
      ],
      "metadata": {
        "id": "GbDQapKm7u3q"
      }
    },
    {
      "cell_type": "code",
      "source": [
        "X=torch.tensor([[0,0],\n",
        "                [0,1],\n",
        "                [1,0],\n",
        "                [1,1]],dtype=torch.float32)\n",
        "y=torch.tensor([[0],[1],[1],[0]],dtype=torch.float32)"
      ],
      "metadata": {
        "id": "-MrA7Wth7xxu"
      },
      "execution_count": 72,
      "outputs": []
    },
    {
      "cell_type": "code",
      "source": [
        "class XOR_NET(nn.Module):\n",
        "  def __init__(self):\n",
        "     super(XOR_NET,self).__init__()\n",
        "     self.fc1=nn.Linear(2,2)\n",
        "     self.fc2=nn.Linear(2,1)\n",
        "\n",
        "  def forward(self,x):\n",
        "    x=torch.sigmoid(self.fc1(x))\n",
        "    x=torch.sigmoid(self.fc2(x))\n",
        "    return x\n",
        "model=XOR_NET()"
      ],
      "metadata": {
        "id": "lilRTQLJ8Jyf"
      },
      "execution_count": 73,
      "outputs": []
    },
    {
      "cell_type": "code",
      "source": [
        "criterion=nn.BCELoss()\n",
        "optimizer=optim.SGD(model.parameters(),lr=0.2)\n"
      ],
      "metadata": {
        "id": "UUIai9mc8tVp"
      },
      "execution_count": 77,
      "outputs": []
    },
    {
      "cell_type": "code",
      "source": [
        "epochs=1000\n",
        "for epoch in range(epochs):\n",
        "  optimizer.zero_grad()\n",
        "  output=model(X)\n",
        "  loss=criterion(output,y)\n",
        "  loss.backward()\n",
        "  optimizer.step()\n",
        "\n",
        "  if (epoch+1) % 100 == 0:\n",
        "        print(f'Epoch {epoch+1}, Loss: {loss.item():.4f}')\n"
      ],
      "metadata": {
        "colab": {
          "base_uri": "https://localhost:8080/"
        },
        "id": "pz-hFKOy88Dk",
        "outputId": "b35cd278-afff-440e-dc64-8f8ba7c5b817"
      },
      "execution_count": 92,
      "outputs": [
        {
          "output_type": "stream",
          "name": "stdout",
          "text": [
            "Epoch 100, Loss: 0.0055\n",
            "Epoch 200, Loss: 0.0055\n",
            "Epoch 300, Loss: 0.0054\n",
            "Epoch 400, Loss: 0.0054\n",
            "Epoch 500, Loss: 0.0053\n",
            "Epoch 600, Loss: 0.0052\n",
            "Epoch 700, Loss: 0.0052\n",
            "Epoch 800, Loss: 0.0051\n",
            "Epoch 900, Loss: 0.0051\n",
            "Epoch 1000, Loss: 0.0050\n"
          ]
        }
      ]
    },
    {
      "cell_type": "code",
      "source": [
        "with torch.no_grad():\n",
        "  output=model(X)\n",
        "  predicted=(output>0.5).float()\n",
        "  print(\"Predicted:\\n \",predicted)"
      ],
      "metadata": {
        "colab": {
          "base_uri": "https://localhost:8080/"
        },
        "id": "-CB8d5g_9SUr",
        "outputId": "3ffe691e-cf4b-47a5-88bb-acbb955a33a9"
      },
      "execution_count": 84,
      "outputs": [
        {
          "output_type": "stream",
          "name": "stdout",
          "text": [
            "Predicted:\n",
            "  tensor([[0.],\n",
            "        [1.],\n",
            "        [1.],\n",
            "        [0.]])\n"
          ]
        }
      ]
    },
    {
      "cell_type": "code",
      "source": [
        "X_test=torch.tensor([[1,0],[0,1],[0,0],[1,1]],dtype=torch.float32)\n",
        "with torch.no_grad():\n",
        "  output=model(X_test)\n",
        "  predicted=(output>0.5).float()\n",
        "  print(\"Predicted:\\n \",predicted)"
      ],
      "metadata": {
        "colab": {
          "base_uri": "https://localhost:8080/"
        },
        "id": "YO_rja7rOEPX",
        "outputId": "040c1558-3e2f-4a37-f67d-d6a5e37cc97f"
      },
      "execution_count": 94,
      "outputs": [
        {
          "output_type": "stream",
          "name": "stdout",
          "text": [
            "Predicted:\n",
            "  tensor([[1.],\n",
            "        [1.],\n",
            "        [0.],\n",
            "        [0.]])\n"
          ]
        }
      ]
    }
  ]
}