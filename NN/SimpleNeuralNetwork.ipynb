{
  "nbformat": 4,
  "nbformat_minor": 0,
  "metadata": {
    "colab": {
      "provenance": [],
      "authorship_tag": "ABX9TyNbRYKEHVSGNRpPlG+XQ2Op",
      "include_colab_link": true
    },
    "kernelspec": {
      "name": "python3",
      "display_name": "Python 3"
    },
    "language_info": {
      "name": "python"
    }
  },
  "cells": [
    {
      "cell_type": "markdown",
      "metadata": {
        "id": "view-in-github",
        "colab_type": "text"
      },
      "source": [
        "<a href=\"https://colab.research.google.com/github/prasannashrestha011/NeuralNetworkFromScratch/blob/main/SimpleNeuralNetwork.ipynb\" target=\"_parent\"><img src=\"https://colab.research.google.com/assets/colab-badge.svg\" alt=\"Open In Colab\"/></a>"
      ]
    },
    {
      "cell_type": "code",
      "source": [
        "!pip install nnfs"
      ],
      "metadata": {
        "colab": {
          "base_uri": "https://localhost:8080/"
        },
        "id": "SfIjaVVDHozL",
        "outputId": "133a802a-48cb-4f2a-a577-eb08b8175144"
      },
      "execution_count": 2,
      "outputs": [
        {
          "output_type": "stream",
          "name": "stdout",
          "text": [
            "Collecting nnfs\n",
            "  Downloading nnfs-0.5.1-py3-none-any.whl.metadata (1.7 kB)\n",
            "Requirement already satisfied: numpy in /usr/local/lib/python3.12/dist-packages (from nnfs) (2.0.2)\n",
            "Downloading nnfs-0.5.1-py3-none-any.whl (9.1 kB)\n",
            "Installing collected packages: nnfs\n",
            "Successfully installed nnfs-0.5.1\n"
          ]
        }
      ]
    },
    {
      "cell_type": "code",
      "source": [
        "import matplotlib as plt\n",
        "import numpy as np\n",
        "import nnfs"
      ],
      "metadata": {
        "id": "x8j0v_eOH8wD"
      },
      "execution_count": 24,
      "outputs": []
    },
    {
      "cell_type": "code",
      "source": [
        "nnfs.init()\n",
        "from nnfs.datasets import spiral_data\n",
        "X,y=spiral_data(100,3)\n",
        "\n",
        "\n",
        "class Dense_Layer:\n",
        "    def __init__(self,n_inputs,n_neurons) -> None:\n",
        "      # initializing the weights using n_inputs and n_neurons\n",
        "        self.weights=np.random.randn(n_inputs,n_neurons)\n",
        "        self.biases=np.zeros((1,n_neurons))\n",
        "        pass\n",
        "    def forward(self,inputs):\n",
        "        self.output=np.dot(inputs,self.weights)+self.biases\n",
        "        return self.output\n",
        "\n",
        "class ReLu_Activation:\n",
        "  def forward(self,inputs):\n",
        "    self.output=np.maximum(0,inputs)\n",
        "    return self.output\n",
        "\n",
        "class SoftMax_Activation:\n",
        "  def forward(self,inputs):\n",
        "    exp_values=np.exp(inputs-np.max(inputs,axis=1,keepdims=True))\n",
        "    probabilites=exp_values/np.sum(exp_values,axis=1,keepdims=True)\n",
        "    self.output=probabilites\n",
        "    return self.output\n",
        "\n",
        "\n",
        "layer_1=Dense_Layer(2,3)\n",
        "layer_1.forward(X)\n",
        "activation=ReLu_Activation()\n",
        "activation.forward(layer_1.output)\n",
        "\n",
        "output_layer=Dense_Layer(3,3)\n",
        "output_layer.forward(activation.output)\n",
        "\n",
        "softmax=SoftMax_Activation()\n",
        "output_neurons=softmax.forward(output_layer.output)\n",
        "\n",
        "output_neurons[:5]"
      ],
      "metadata": {
        "colab": {
          "base_uri": "https://localhost:8080/"
        },
        "id": "9XS2jDwMIDbh",
        "outputId": "a229a3c9-d6d1-4c27-a7d1-c336c7967363"
      },
      "execution_count": 34,
      "outputs": [
        {
          "output_type": "execute_result",
          "data": {
            "text/plain": [
              "array([[0.33333334, 0.33333334, 0.33333334],\n",
              "       [0.33173057, 0.3318284 , 0.336441  ],\n",
              "       [0.3288542 , 0.3291243 , 0.3420215 ],\n",
              "       [0.32587105, 0.32631534, 0.34781358],\n",
              "       [0.32318372, 0.32378128, 0.35303497]], dtype=float32)"
            ]
          },
          "metadata": {},
          "execution_count": 34
        }
      ]
    },
    {
      "cell_type": "code",
      "source": [
        "#softmax activation\n",
        "outputs=[[1,2,3],\n",
        "        [4,5,6]]\n",
        "'''\n",
        "exp_values=np.exp(outputs)\n",
        "norm_values=exp_values/np.sum(exp_values)\n",
        "'''\n",
        "exp_values=np.exp(outputs)\n",
        "norm_base=np.sum(outputs,axis=1,keepdims=True)\n",
        "norm_values=exp_values/norm_base\n",
        "print(norm_values)\n",
        "\n",
        "np.max(outputs,axis=1,keepdims=True)\n"
      ],
      "metadata": {
        "colab": {
          "base_uri": "https://localhost:8080/"
        },
        "id": "ApAilCJGUQar",
        "outputId": "d10f2ecf-471b-457b-d7f6-277809e9fd3b"
      },
      "execution_count": 20,
      "outputs": [
        {
          "output_type": "stream",
          "name": "stdout",
          "text": [
            "[[ 0.45304697  1.23150935  3.34758949]\n",
            " [ 3.63987667  9.89421061 26.8952529 ]]\n"
          ]
        },
        {
          "output_type": "execute_result",
          "data": {
            "text/plain": [
              "array([[3],\n",
              "       [6]])"
            ]
          },
          "metadata": {},
          "execution_count": 20
        }
      ]
    }
  ]
}