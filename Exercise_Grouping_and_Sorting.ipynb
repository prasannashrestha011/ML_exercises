{
  "metadata": {
    "kernelspec": {
      "display_name": "Python 3",
      "language": "python",
      "name": "python3"
    },
    "language_info": {
      "name": "python",
      "version": "3.11.13",
      "mimetype": "text/x-python",
      "codemirror_mode": {
        "name": "ipython",
        "version": 3
      },
      "pygments_lexer": "ipython3",
      "nbconvert_exporter": "python",
      "file_extension": ".py"
    },
    "kaggle": {
      "accelerator": "none",
      "dataSources": [
        {
          "sourceId": 1252,
          "sourceType": "datasetVersion",
          "datasetId": 655
        },
        {
          "sourceId": 3919,
          "sourceType": "datasetVersion",
          "datasetId": 2321
        },
        {
          "sourceId": 4877,
          "sourceType": "datasetVersion",
          "datasetId": 2894
        },
        {
          "sourceId": 5624,
          "sourceType": "datasetVersion",
          "datasetId": 3491
        },
        {
          "sourceId": 8172,
          "sourceType": "datasetVersion",
          "datasetId": 1442
        },
        {
          "sourceId": 13206,
          "sourceType": "datasetVersion",
          "datasetId": 9366
        },
        {
          "sourceId": 403916,
          "sourceType": "datasetVersion",
          "datasetId": 179555
        },
        {
          "sourceId": 466349,
          "sourceType": "datasetVersion",
          "datasetId": 4549
        },
        {
          "sourceId": 1151655,
          "sourceType": "datasetVersion",
          "datasetId": 2478
        },
        {
          "sourceId": 5438389,
          "sourceType": "datasetVersion",
          "datasetId": 10128
        }
      ],
      "isInternetEnabled": false,
      "language": "python",
      "sourceType": "notebook",
      "isGpuEnabled": false
    },
    "colab": {
      "name": "Exercise: Grouping and Sorting",
      "provenance": [],
      "include_colab_link": true
    }
  },
  "nbformat_minor": 0,
  "nbformat": 4,
  "cells": [
    {
      "cell_type": "markdown",
      "metadata": {
        "id": "view-in-github",
        "colab_type": "text"
      },
      "source": [
        "<a href=\"https://colab.research.google.com/github/prasannashrestha011/NeuralNetworkFromScratch/blob/main/Exercise_Grouping_and_Sorting.ipynb\" target=\"_parent\"><img src=\"https://colab.research.google.com/assets/colab-badge.svg\" alt=\"Open In Colab\"/></a>"
      ]
    },
    {
      "source": [
        "# IMPORTANT: RUN THIS CELL IN ORDER TO IMPORT YOUR KAGGLE DATA SOURCES,\n",
        "# THEN FEEL FREE TO DELETE THIS CELL.\n",
        "# NOTE: THIS NOTEBOOK ENVIRONMENT DIFFERS FROM KAGGLE'S PYTHON\n",
        "# ENVIRONMENT SO THERE MAY BE MISSING LIBRARIES USED BY YOUR\n",
        "# NOTEBOOK.\n",
        "import kagglehub\n",
        "nolanbconaway_pitchfork_data_path = kagglehub.dataset_download('nolanbconaway/pitchfork-data')\n",
        "datasnaek_chess_path = kagglehub.dataset_download('datasnaek/chess')\n",
        "nasa_kepler_exoplanet_search_results_path = kagglehub.dataset_download('nasa/kepler-exoplanet-search-results')\n",
        "residentmario_things_on_reddit_path = kagglehub.dataset_download('residentmario/things-on-reddit')\n",
        "zynicide_wine_reviews_path = kagglehub.dataset_download('zynicide/wine-reviews')\n",
        "residentmario_ramen_ratings_path = kagglehub.dataset_download('residentmario/ramen-ratings')\n",
        "dansbecker_powerlifting_database_path = kagglehub.dataset_download('dansbecker/powerlifting-database')\n",
        "datasnaek_youtube_new_path = kagglehub.dataset_download('datasnaek/youtube-new')\n",
        "rtatman_188_million_us_wildfires_path = kagglehub.dataset_download('rtatman/188-million-us-wildfires')\n",
        "jpmiller_publicassistance_path = kagglehub.dataset_download('jpmiller/publicassistance')\n",
        "\n",
        "print('Data source import complete.')\n"
      ],
      "metadata": {
        "id": "neNmXE9CS0oR"
      },
      "cell_type": "code",
      "outputs": [],
      "execution_count": null
    },
    {
      "cell_type": "markdown",
      "source": [
        "**This notebook is an exercise in the [Pandas](https://www.kaggle.com/learn/pandas) course.  You can reference the tutorial at [this link](https://www.kaggle.com/residentmario/grouping-and-sorting).**\n",
        "\n",
        "---\n"
      ],
      "metadata": {
        "id": "eWVJT_dUS0oU"
      }
    },
    {
      "cell_type": "markdown",
      "source": [
        "# Introduction\n",
        "\n",
        "In these exercises we'll apply groupwise analysis to our dataset.\n",
        "\n",
        "Run the code cell below to load the data before running the exercises."
      ],
      "metadata": {
        "id": "K5KMEaAES0oW"
      }
    },
    {
      "cell_type": "code",
      "source": [
        "import pandas as pd\n",
        "\n",
        "reviews = pd.read_csv(\"../input/wine-reviews/winemag-data-130k-v2.csv\", index_col=0)\n",
        "#pd.set_option(\"display.max_rows\", 5)\n",
        "\n",
        "from learntools.core import binder; binder.bind(globals())\n",
        "from learntools.pandas.grouping_and_sorting import *\n",
        "print(\"Setup complete.\")"
      ],
      "metadata": {
        "trusted": true,
        "execution": {
          "iopub.status.busy": "2025-09-13T08:33:56.40609Z",
          "iopub.execute_input": "2025-09-13T08:33:56.406314Z",
          "iopub.status.idle": "2025-09-13T08:34:01.566804Z",
          "shell.execute_reply.started": "2025-09-13T08:33:56.406293Z",
          "shell.execute_reply": "2025-09-13T08:34:01.56602Z"
        },
        "id": "towI4r0iS0oX",
        "outputId": "a0e4967f-36e1-4de9-d21c-619b85d55599"
      },
      "outputs": [
        {
          "name": "stdout",
          "text": "Setup complete.\n",
          "output_type": "stream"
        },
        {
          "name": "stderr",
          "text": "/usr/local/lib/python3.11/dist-packages/learntools/pandas/grouping_and_sorting.py:29: FutureWarning: The provided callable <built-in function min> is currently using SeriesGroupBy.min. In a future version of pandas, the provided callable will be used directly. To keep current behavior pass the string \"min\" instead.\n  _expected = reviews.groupby('variety').price.agg([min, max])\n/usr/local/lib/python3.11/dist-packages/learntools/pandas/grouping_and_sorting.py:29: FutureWarning: The provided callable <built-in function max> is currently using SeriesGroupBy.max. In a future version of pandas, the provided callable will be used directly. To keep current behavior pass the string \"max\" instead.\n  _expected = reviews.groupby('variety').price.agg([min, max])\n/usr/local/lib/python3.11/dist-packages/learntools/pandas/grouping_and_sorting.py:35: FutureWarning: The provided callable <built-in function min> is currently using SeriesGroupBy.min. In a future version of pandas, the provided callable will be used directly. To keep current behavior pass the string \"min\" instead.\n  _expected = reviews.groupby('variety').price.agg([min, max]).sort_values(by=['min', 'max'], ascending=False)\n/usr/local/lib/python3.11/dist-packages/learntools/pandas/grouping_and_sorting.py:35: FutureWarning: The provided callable <built-in function max> is currently using SeriesGroupBy.max. In a future version of pandas, the provided callable will be used directly. To keep current behavior pass the string \"max\" instead.\n  _expected = reviews.groupby('variety').price.agg([min, max]).sort_values(by=['min', 'max'], ascending=False)\n",
          "output_type": "stream"
        }
      ],
      "execution_count": null
    },
    {
      "cell_type": "markdown",
      "source": [
        "# Exercises"
      ],
      "metadata": {
        "id": "W71yxdb7S0oY"
      }
    },
    {
      "cell_type": "code",
      "source": [
        "reviews.head()"
      ],
      "metadata": {
        "trusted": true,
        "execution": {
          "iopub.status.busy": "2025-09-13T08:37:56.558226Z",
          "iopub.execute_input": "2025-09-13T08:37:56.558512Z",
          "iopub.status.idle": "2025-09-13T08:37:56.587966Z",
          "shell.execute_reply.started": "2025-09-13T08:37:56.558489Z",
          "shell.execute_reply": "2025-09-13T08:37:56.587124Z"
        },
        "id": "EaLDNAkQS0oY",
        "outputId": "2149bb90-64a0-4de0-d1d7-445aee53b379"
      },
      "outputs": [
        {
          "name": "stderr",
          "text": "/usr/local/lib/python3.11/dist-packages/pandas/io/formats/format.py:1458: RuntimeWarning: invalid value encountered in greater\n  has_large_values = (abs_vals > 1e6).any()\n/usr/local/lib/python3.11/dist-packages/pandas/io/formats/format.py:1459: RuntimeWarning: invalid value encountered in less\n  has_small_values = ((abs_vals < 10 ** (-self.digits)) & (abs_vals > 0)).any()\n/usr/local/lib/python3.11/dist-packages/pandas/io/formats/format.py:1459: RuntimeWarning: invalid value encountered in greater\n  has_small_values = ((abs_vals < 10 ** (-self.digits)) & (abs_vals > 0)).any()\n",
          "output_type": "stream"
        },
        {
          "execution_count": 9,
          "output_type": "execute_result",
          "data": {
            "text/plain": "    country                                        description  \\\n0     Italy  Aromas include tropical fruit, broom, brimston...   \n1  Portugal  This is ripe and fruity, a wine that is smooth...   \n2        US  Tart and snappy, the flavors of lime flesh and...   \n3        US  Pineapple rind, lemon pith and orange blossom ...   \n4        US  Much like the regular bottling from 2012, this...   \n\n                          designation  points  price           province  \\\n0                        Vulkà Bianco      87    NaN  Sicily & Sardinia   \n1                            Avidagos      87   15.0              Douro   \n2                                 NaN      87   14.0             Oregon   \n3                Reserve Late Harvest      87   13.0           Michigan   \n4  Vintner's Reserve Wild Child Block      87   65.0             Oregon   \n\n              region_1           region_2         taster_name  \\\n0                 Etna                NaN       Kerin O’Keefe   \n1                  NaN                NaN          Roger Voss   \n2    Willamette Valley  Willamette Valley        Paul Gregutt   \n3  Lake Michigan Shore                NaN  Alexander Peartree   \n4    Willamette Valley  Willamette Valley        Paul Gregutt   \n\n  taster_twitter_handle                                              title  \\\n0          @kerinokeefe                  Nicosia 2013 Vulkà Bianco  (Etna)   \n1            @vossroger      Quinta dos Avidagos 2011 Avidagos Red (Douro)   \n2           @paulgwine       Rainstorm 2013 Pinot Gris (Willamette Valley)   \n3                   NaN  St. Julian 2013 Reserve Late Harvest Riesling ...   \n4           @paulgwine   Sweet Cheeks 2012 Vintner's Reserve Wild Child...   \n\n          variety               winery  \n0     White Blend              Nicosia  \n1  Portuguese Red  Quinta dos Avidagos  \n2      Pinot Gris            Rainstorm  \n3        Riesling           St. Julian  \n4      Pinot Noir         Sweet Cheeks  ",
            "text/html": "<div>\n<style scoped>\n    .dataframe tbody tr th:only-of-type {\n        vertical-align: middle;\n    }\n\n    .dataframe tbody tr th {\n        vertical-align: top;\n    }\n\n    .dataframe thead th {\n        text-align: right;\n    }\n</style>\n<table border=\"1\" class=\"dataframe\">\n  <thead>\n    <tr style=\"text-align: right;\">\n      <th></th>\n      <th>country</th>\n      <th>description</th>\n      <th>designation</th>\n      <th>points</th>\n      <th>price</th>\n      <th>province</th>\n      <th>region_1</th>\n      <th>region_2</th>\n      <th>taster_name</th>\n      <th>taster_twitter_handle</th>\n      <th>title</th>\n      <th>variety</th>\n      <th>winery</th>\n    </tr>\n  </thead>\n  <tbody>\n    <tr>\n      <th>0</th>\n      <td>Italy</td>\n      <td>Aromas include tropical fruit, broom, brimston...</td>\n      <td>Vulkà Bianco</td>\n      <td>87</td>\n      <td>NaN</td>\n      <td>Sicily &amp; Sardinia</td>\n      <td>Etna</td>\n      <td>NaN</td>\n      <td>Kerin O’Keefe</td>\n      <td>@kerinokeefe</td>\n      <td>Nicosia 2013 Vulkà Bianco  (Etna)</td>\n      <td>White Blend</td>\n      <td>Nicosia</td>\n    </tr>\n    <tr>\n      <th>1</th>\n      <td>Portugal</td>\n      <td>This is ripe and fruity, a wine that is smooth...</td>\n      <td>Avidagos</td>\n      <td>87</td>\n      <td>15.0</td>\n      <td>Douro</td>\n      <td>NaN</td>\n      <td>NaN</td>\n      <td>Roger Voss</td>\n      <td>@vossroger</td>\n      <td>Quinta dos Avidagos 2011 Avidagos Red (Douro)</td>\n      <td>Portuguese Red</td>\n      <td>Quinta dos Avidagos</td>\n    </tr>\n    <tr>\n      <th>2</th>\n      <td>US</td>\n      <td>Tart and snappy, the flavors of lime flesh and...</td>\n      <td>NaN</td>\n      <td>87</td>\n      <td>14.0</td>\n      <td>Oregon</td>\n      <td>Willamette Valley</td>\n      <td>Willamette Valley</td>\n      <td>Paul Gregutt</td>\n      <td>@paulgwine</td>\n      <td>Rainstorm 2013 Pinot Gris (Willamette Valley)</td>\n      <td>Pinot Gris</td>\n      <td>Rainstorm</td>\n    </tr>\n    <tr>\n      <th>3</th>\n      <td>US</td>\n      <td>Pineapple rind, lemon pith and orange blossom ...</td>\n      <td>Reserve Late Harvest</td>\n      <td>87</td>\n      <td>13.0</td>\n      <td>Michigan</td>\n      <td>Lake Michigan Shore</td>\n      <td>NaN</td>\n      <td>Alexander Peartree</td>\n      <td>NaN</td>\n      <td>St. Julian 2013 Reserve Late Harvest Riesling ...</td>\n      <td>Riesling</td>\n      <td>St. Julian</td>\n    </tr>\n    <tr>\n      <th>4</th>\n      <td>US</td>\n      <td>Much like the regular bottling from 2012, this...</td>\n      <td>Vintner's Reserve Wild Child Block</td>\n      <td>87</td>\n      <td>65.0</td>\n      <td>Oregon</td>\n      <td>Willamette Valley</td>\n      <td>Willamette Valley</td>\n      <td>Paul Gregutt</td>\n      <td>@paulgwine</td>\n      <td>Sweet Cheeks 2012 Vintner's Reserve Wild Child...</td>\n      <td>Pinot Noir</td>\n      <td>Sweet Cheeks</td>\n    </tr>\n  </tbody>\n</table>\n</div>"
          },
          "metadata": {}
        }
      ],
      "execution_count": null
    },
    {
      "cell_type": "markdown",
      "source": [
        "## 1.\n",
        "Who are the most common wine reviewers in the dataset? Create a `Series` whose index is the `taster_twitter_handle` category from the dataset, and whose values count how many reviews each person wrote."
      ],
      "metadata": {
        "id": "5DSvjwrBS0oZ"
      }
    },
    {
      "cell_type": "code",
      "source": [
        "# Your code here\n",
        "reviews_written = reviews.groupby(\"taster_twitter_handle\")[\"taster_twitter_handle\"].size()\n",
        "reviews_written"
      ],
      "metadata": {
        "trusted": true,
        "execution": {
          "iopub.status.busy": "2025-09-13T08:40:40.825207Z",
          "iopub.execute_input": "2025-09-13T08:40:40.825928Z",
          "iopub.status.idle": "2025-09-13T08:40:40.843345Z",
          "shell.execute_reply.started": "2025-09-13T08:40:40.825904Z",
          "shell.execute_reply": "2025-09-13T08:40:40.842579Z"
        },
        "id": "UM5NW_16S0oa",
        "outputId": "8fe5344c-9458-488b-e8ba-494c384487d3"
      },
      "outputs": [
        {
          "execution_count": 15,
          "output_type": "execute_result",
          "data": {
            "text/plain": "taster_twitter_handle\n@AnneInVino          3685\n@JoeCz               5147\n@bkfiona               27\n@gordone_cellars     4177\n@kerinokeefe        10776\n@laurbuzz            1835\n@mattkettmann        6332\n@paulgwine           9532\n@suskostrzewa        1085\n@vboone              9537\n@vossroger          25514\n@wawinereport        4966\n@wineschach         15134\n@winewchristina         6\n@worldwineguys       1005\nName: taster_twitter_handle, dtype: int64"
          },
          "metadata": {}
        }
      ],
      "execution_count": null
    },
    {
      "cell_type": "code",
      "source": [
        "#q1.hint()\n",
        "#q1.solution()"
      ],
      "metadata": {
        "id": "vvKXJMwFS0oa"
      },
      "outputs": [],
      "execution_count": null
    },
    {
      "cell_type": "markdown",
      "source": [
        "## 2.\n",
        "What is the best wine I can buy for a given amount of money? Create a `Series` whose index is wine prices and whose values is the maximum number of points a wine costing that much was given in a review. Sort the values by price, ascending (so that `4.0` dollars is at the top and `3300.0` dollars is at the bottom)."
      ],
      "metadata": {
        "id": "oVYxAMPkS0ob"
      }
    },
    {
      "cell_type": "code",
      "source": [
        "best_rating_per_price = reviews.groupby(\"price\")[\"points\"].max()\n",
        "\n",
        "best_rating_per_price"
      ],
      "metadata": {
        "trusted": true,
        "execution": {
          "iopub.status.busy": "2025-09-13T08:43:02.171428Z",
          "iopub.execute_input": "2025-09-13T08:43:02.172087Z",
          "iopub.status.idle": "2025-09-13T08:43:02.18358Z",
          "shell.execute_reply.started": "2025-09-13T08:43:02.172056Z",
          "shell.execute_reply": "2025-09-13T08:43:02.182715Z"
        },
        "id": "12qpyWZIS0ob",
        "outputId": "4f4114ff-2953-469f-817d-e6073dc72f13"
      },
      "outputs": [
        {
          "execution_count": 17,
          "output_type": "execute_result",
          "data": {
            "text/plain": "price\n4.0       86\n5.0       87\n6.0       88\n7.0       91\n8.0       91\n          ..\n1900.0    98\n2000.0    97\n2013.0    91\n2500.0    96\n3300.0    88\nName: points, Length: 390, dtype: int64"
          },
          "metadata": {}
        }
      ],
      "execution_count": null
    },
    {
      "cell_type": "code",
      "source": [
        "#q2.hint()\n",
        "#q2.solution()"
      ],
      "metadata": {
        "id": "N4FU50JvS0oc"
      },
      "outputs": [],
      "execution_count": null
    },
    {
      "cell_type": "markdown",
      "source": [
        "## 3.\n",
        "What are the minimum and maximum prices for each `variety` of wine? Create a `DataFrame` whose index is the `variety` category from the dataset and whose values are the `min` and `max` values thereof."
      ],
      "metadata": {
        "id": "RkY1x2CNS0oc"
      }
    },
    {
      "cell_type": "code",
      "source": [
        "\n",
        "price_extremes = reviews.groupby('variety')['price'].agg(['min','max'])\n",
        "\n",
        "price_extremes"
      ],
      "metadata": {
        "trusted": true,
        "execution": {
          "iopub.status.busy": "2025-09-13T08:48:09.318578Z",
          "iopub.execute_input": "2025-09-13T08:48:09.318857Z",
          "iopub.status.idle": "2025-09-13T08:48:09.346048Z",
          "shell.execute_reply.started": "2025-09-13T08:48:09.318837Z",
          "shell.execute_reply": "2025-09-13T08:48:09.345167Z"
        },
        "id": "rgGKNpBzS0oc",
        "outputId": "4eb184d3-6a3e-4b01-cc42-2135c243c61b"
      },
      "outputs": [
        {
          "execution_count": 26,
          "output_type": "execute_result",
          "data": {
            "text/plain": "              min    max\nvariety                 \nAbouriou     15.0   75.0\nAgiorgitiko  10.0   66.0\nAglianico     6.0  180.0\nAidani       27.0   27.0\nAiren         8.0   10.0\n...           ...    ...\nZinfandel     5.0  100.0\nZlahtina     13.0   16.0\nZweigelt      9.0   70.0\nÇalkarası    19.0   19.0\nŽilavka      15.0   15.0\n\n[707 rows x 2 columns]",
            "text/html": "<div>\n<style scoped>\n    .dataframe tbody tr th:only-of-type {\n        vertical-align: middle;\n    }\n\n    .dataframe tbody tr th {\n        vertical-align: top;\n    }\n\n    .dataframe thead th {\n        text-align: right;\n    }\n</style>\n<table border=\"1\" class=\"dataframe\">\n  <thead>\n    <tr style=\"text-align: right;\">\n      <th></th>\n      <th>min</th>\n      <th>max</th>\n    </tr>\n    <tr>\n      <th>variety</th>\n      <th></th>\n      <th></th>\n    </tr>\n  </thead>\n  <tbody>\n    <tr>\n      <th>Abouriou</th>\n      <td>15.0</td>\n      <td>75.0</td>\n    </tr>\n    <tr>\n      <th>Agiorgitiko</th>\n      <td>10.0</td>\n      <td>66.0</td>\n    </tr>\n    <tr>\n      <th>Aglianico</th>\n      <td>6.0</td>\n      <td>180.0</td>\n    </tr>\n    <tr>\n      <th>Aidani</th>\n      <td>27.0</td>\n      <td>27.0</td>\n    </tr>\n    <tr>\n      <th>Airen</th>\n      <td>8.0</td>\n      <td>10.0</td>\n    </tr>\n    <tr>\n      <th>...</th>\n      <td>...</td>\n      <td>...</td>\n    </tr>\n    <tr>\n      <th>Zinfandel</th>\n      <td>5.0</td>\n      <td>100.0</td>\n    </tr>\n    <tr>\n      <th>Zlahtina</th>\n      <td>13.0</td>\n      <td>16.0</td>\n    </tr>\n    <tr>\n      <th>Zweigelt</th>\n      <td>9.0</td>\n      <td>70.0</td>\n    </tr>\n    <tr>\n      <th>Çalkarası</th>\n      <td>19.0</td>\n      <td>19.0</td>\n    </tr>\n    <tr>\n      <th>Žilavka</th>\n      <td>15.0</td>\n      <td>15.0</td>\n    </tr>\n  </tbody>\n</table>\n<p>707 rows × 2 columns</p>\n</div>"
          },
          "metadata": {}
        }
      ],
      "execution_count": null
    },
    {
      "cell_type": "markdown",
      "source": [
        "## 4.\n",
        "What are the most expensive wine varieties? Create a variable `sorted_varieties` containing a copy of the dataframe from the previous question where varieties are sorted in descending order based on minimum price, then on maximum price (to break ties)."
      ],
      "metadata": {
        "id": "9uUbg2avS0oc"
      }
    },
    {
      "cell_type": "code",
      "source": [
        "sorted_varieties = price_extremes.sort_values(by=['min','max'],ascending=False)\n",
        "\n",
        "sorted_varieties"
      ],
      "metadata": {
        "trusted": true,
        "execution": {
          "iopub.status.busy": "2025-09-13T08:52:05.887733Z",
          "iopub.execute_input": "2025-09-13T08:52:05.888478Z",
          "iopub.status.idle": "2025-09-13T08:52:05.903346Z",
          "shell.execute_reply.started": "2025-09-13T08:52:05.88845Z",
          "shell.execute_reply": "2025-09-13T08:52:05.902329Z"
        },
        "id": "qOFAaNkaS0od",
        "outputId": "7bdf81e8-c185-455a-8fbd-1f2a21a55630"
      },
      "outputs": [
        {
          "name": "stderr",
          "text": "/usr/local/lib/python3.11/dist-packages/pandas/io/formats/format.py:1458: RuntimeWarning: invalid value encountered in greater\n  has_large_values = (abs_vals > 1e6).any()\n/usr/local/lib/python3.11/dist-packages/pandas/io/formats/format.py:1459: RuntimeWarning: invalid value encountered in less\n  has_small_values = ((abs_vals < 10 ** (-self.digits)) & (abs_vals > 0)).any()\n/usr/local/lib/python3.11/dist-packages/pandas/io/formats/format.py:1459: RuntimeWarning: invalid value encountered in greater\n  has_small_values = ((abs_vals < 10 ** (-self.digits)) & (abs_vals > 0)).any()\n",
          "output_type": "stream"
        },
        {
          "execution_count": 32,
          "output_type": "execute_result",
          "data": {
            "text/plain": "                                  min    max\nvariety                                     \nRamisco                         495.0  495.0\nTerrantez                       236.0  236.0\nFrancisa                        160.0  160.0\nRosenmuskateller                150.0  150.0\nTinta Negra Mole                112.0  112.0\n...                               ...    ...\nRoscetto                          NaN    NaN\nSauvignon Blanc-Sauvignon Gris    NaN    NaN\nTempranillo-Malbec                NaN    NaN\nVital                             NaN    NaN\nZelen                             NaN    NaN\n\n[707 rows x 2 columns]",
            "text/html": "<div>\n<style scoped>\n    .dataframe tbody tr th:only-of-type {\n        vertical-align: middle;\n    }\n\n    .dataframe tbody tr th {\n        vertical-align: top;\n    }\n\n    .dataframe thead th {\n        text-align: right;\n    }\n</style>\n<table border=\"1\" class=\"dataframe\">\n  <thead>\n    <tr style=\"text-align: right;\">\n      <th></th>\n      <th>min</th>\n      <th>max</th>\n    </tr>\n    <tr>\n      <th>variety</th>\n      <th></th>\n      <th></th>\n    </tr>\n  </thead>\n  <tbody>\n    <tr>\n      <th>Ramisco</th>\n      <td>495.0</td>\n      <td>495.0</td>\n    </tr>\n    <tr>\n      <th>Terrantez</th>\n      <td>236.0</td>\n      <td>236.0</td>\n    </tr>\n    <tr>\n      <th>Francisa</th>\n      <td>160.0</td>\n      <td>160.0</td>\n    </tr>\n    <tr>\n      <th>Rosenmuskateller</th>\n      <td>150.0</td>\n      <td>150.0</td>\n    </tr>\n    <tr>\n      <th>Tinta Negra Mole</th>\n      <td>112.0</td>\n      <td>112.0</td>\n    </tr>\n    <tr>\n      <th>...</th>\n      <td>...</td>\n      <td>...</td>\n    </tr>\n    <tr>\n      <th>Roscetto</th>\n      <td>NaN</td>\n      <td>NaN</td>\n    </tr>\n    <tr>\n      <th>Sauvignon Blanc-Sauvignon Gris</th>\n      <td>NaN</td>\n      <td>NaN</td>\n    </tr>\n    <tr>\n      <th>Tempranillo-Malbec</th>\n      <td>NaN</td>\n      <td>NaN</td>\n    </tr>\n    <tr>\n      <th>Vital</th>\n      <td>NaN</td>\n      <td>NaN</td>\n    </tr>\n    <tr>\n      <th>Zelen</th>\n      <td>NaN</td>\n      <td>NaN</td>\n    </tr>\n  </tbody>\n</table>\n<p>707 rows × 2 columns</p>\n</div>"
          },
          "metadata": {}
        }
      ],
      "execution_count": null
    },
    {
      "cell_type": "markdown",
      "source": [
        "## 5.\n",
        "Create a `Series` whose index is reviewers and whose values is the average review score given out by that reviewer. Hint: you will need the `taster_name` and `points` columns."
      ],
      "metadata": {
        "id": "ciU2kDfUS0od"
      }
    },
    {
      "cell_type": "code",
      "source": [
        "reviewer_mean_ratings = reviews.groupby(\"taster_name\")[\"points\"].mean()\n",
        "\n",
        "reviewer_mean_ratings"
      ],
      "metadata": {
        "trusted": true,
        "execution": {
          "iopub.status.busy": "2025-09-13T08:53:10.269586Z",
          "iopub.execute_input": "2025-09-13T08:53:10.269843Z",
          "iopub.status.idle": "2025-09-13T08:53:10.289829Z",
          "shell.execute_reply.started": "2025-09-13T08:53:10.269825Z",
          "shell.execute_reply": "2025-09-13T08:53:10.288919Z"
        },
        "id": "Mv2adb9sS0od",
        "outputId": "6892824a-1c97-4700-fe94-9af075c68f2a"
      },
      "outputs": [
        {
          "execution_count": 34,
          "output_type": "execute_result",
          "data": {
            "text/plain": "taster_name\nAlexander Peartree    85.855422\nAnna Lee C. Iijima    88.415629\nAnne Krebiehl MW      90.562551\nCarrie Dykes          86.395683\nChristina Pickard     87.833333\nFiona Adams           86.888889\nJeff Jenssen          88.319756\nJim Gordon            88.626287\nJoe Czerwinski        88.536235\nKerin O’Keefe         88.867947\nLauren Buzzeo         87.739510\nMatt Kettmann         90.008686\nMichael Schachner     86.907493\nMike DeSimone         89.101167\nPaul Gregutt          89.082564\nRoger Voss            88.708003\nSean P. Sullivan      88.755739\nSusan Kostrzewa       86.609217\nVirginie Boone        89.213379\nName: points, dtype: float64"
          },
          "metadata": {}
        }
      ],
      "execution_count": null
    },
    {
      "cell_type": "markdown",
      "source": [
        "Are there significant differences in the average scores assigned by the various reviewers? Run the cell below to use the `describe()` method to see a summary of the range of values."
      ],
      "metadata": {
        "id": "ntEONW5pS0od"
      }
    },
    {
      "cell_type": "code",
      "source": [
        "reviewer_mean_ratings.describe()"
      ],
      "metadata": {
        "trusted": true,
        "execution": {
          "iopub.status.busy": "2025-09-13T08:53:24.716944Z",
          "iopub.execute_input": "2025-09-13T08:53:24.717263Z",
          "iopub.status.idle": "2025-09-13T08:53:24.745343Z",
          "shell.execute_reply.started": "2025-09-13T08:53:24.71724Z",
          "shell.execute_reply": "2025-09-13T08:53:24.744517Z"
        },
        "id": "kuAOuZ1sS0od",
        "outputId": "8244992c-86f1-4772-ef05-d5096a1509c0"
      },
      "outputs": [
        {
          "execution_count": 35,
          "output_type": "execute_result",
          "data": {
            "text/plain": "count    19.000000\nmean     88.233026\nstd       1.243610\nmin      85.855422\n25%      87.323501\n50%      88.536235\n75%      88.975256\nmax      90.562551\nName: points, dtype: float64"
          },
          "metadata": {}
        }
      ],
      "execution_count": null
    },
    {
      "cell_type": "markdown",
      "source": [
        "## 6.\n",
        "What combination of countries and varieties are most common? Create a `Series` whose index is a `MultiIndex`of `{country, variety}` pairs. For example, a pinot noir produced in the US should map to `{\"US\", \"Pinot Noir\"}`. Sort the values in the `Series` in descending order based on wine count."
      ],
      "metadata": {
        "id": "w-VDnmsKS0of"
      }
    },
    {
      "cell_type": "code",
      "source": [
        "country_variety_counts = reviews.groupby(['country', 'variety']).size().sort_values(ascending=False)\n",
        "country_variety_counts"
      ],
      "metadata": {
        "trusted": true,
        "execution": {
          "iopub.status.busy": "2025-09-13T08:57:09.087294Z",
          "iopub.execute_input": "2025-09-13T08:57:09.087563Z",
          "iopub.status.idle": "2025-09-13T08:57:09.122861Z",
          "shell.execute_reply.started": "2025-09-13T08:57:09.087544Z",
          "shell.execute_reply": "2025-09-13T08:57:09.121939Z"
        },
        "id": "KmEvX0DAS0of",
        "outputId": "8a4ce320-467e-4056-83e6-a273f92d16e2"
      },
      "outputs": [
        {
          "execution_count": 42,
          "output_type": "execute_result",
          "data": {
            "text/plain": "country  variety                 \nUS       Pinot Noir                  9885\n         Cabernet Sauvignon          7315\n         Chardonnay                  6801\nFrance   Bordeaux-style Red Blend    4725\nItaly    Red Blend                   3624\n                                     ... \nMexico   Cinsault                       1\n         Grenache                       1\n         Merlot                         1\n         Rosado                         1\nUruguay  White Blend                    1\nLength: 1612, dtype: int64"
          },
          "metadata": {}
        }
      ],
      "execution_count": null
    },
    {
      "cell_type": "markdown",
      "source": [
        "# Keep going\n",
        "\n",
        "Move on to the [**data types and missing data**](https://www.kaggle.com/residentmario/data-types-and-missing-values)."
      ],
      "metadata": {
        "id": "Wkd2E4WFS0og"
      }
    },
    {
      "cell_type": "markdown",
      "source": [
        "---\n",
        "\n",
        "\n",
        "\n",
        "\n",
        "*Have questions or comments? Visit the [course discussion forum](https://www.kaggle.com/learn/pandas/discussion) to chat with other learners.*"
      ],
      "metadata": {
        "id": "hha2HVeRS0og"
      }
    }
  ]
}