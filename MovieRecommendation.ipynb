{
  "nbformat": 4,
  "nbformat_minor": 0,
  "metadata": {
    "colab": {
      "provenance": [],
      "authorship_tag": "ABX9TyNqpnQROF/MkZdeDfNddKHY",
      "include_colab_link": true
    },
    "kernelspec": {
      "name": "python3",
      "display_name": "Python 3"
    },
    "language_info": {
      "name": "python"
    }
  },
  "cells": [
    {
      "cell_type": "markdown",
      "metadata": {
        "id": "view-in-github",
        "colab_type": "text"
      },
      "source": [
        "<a href=\"https://colab.research.google.com/github/prasannashrestha011/NeuralNetworkFromScratch/blob/main/MovieRecommendation.ipynb\" target=\"_parent\"><img src=\"https://colab.research.google.com/assets/colab-badge.svg\" alt=\"Open In Colab\"/></a>"
      ]
    },
    {
      "cell_type": "code",
      "execution_count": 46,
      "metadata": {
        "id": "wAKv8Y3fsnsZ"
      },
      "outputs": [],
      "source": [
        "import pandas as pd\n",
        "from sklearn.model_selection import train_test_split\n",
        "import torch\n",
        "from torch import nn\n",
        "from torch.utils.data import Dataset, DataLoader"
      ]
    },
    {
      "cell_type": "code",
      "source": [
        "import pandas as pd\n",
        "\n",
        "# Ratings\n",
        "data_url = \"https://files.grouplens.org/datasets/movielens/ml-100k/u.data\"\n",
        "columns_data = ['user_id', 'movie_id', 'rating', 'timestamp']\n",
        "ratings = pd.read_csv(data_url, sep='\\t', names=columns_data)\n",
        "\n",
        "# Movies\n",
        "movies_url = \"https://files.grouplens.org/datasets/movielens/ml-100k/u.item\"\n",
        "\n",
        "columns_movies = ['movie_id','title','release_date','video_release','imdb_url'] + [f'genre_{i}' for i in range(19)]\n",
        "movies = pd.read_csv(movies_url, sep='|', names=columns_movies, encoding='latin-1')\n",
        "\n",
        "# Merging ratings with movie names\n",
        "df = ratings.merge(movies[['movie_id','title']], on='movie_id')\n",
        "\n",
        "df['user_id'] = df['user_id'] - 1\n",
        "df['movie_id'] = df['movie_id'] - 1\n",
        "\n",
        "n_users=df[\"user_id\"].nunique()\n",
        "n_movies=df[\"movie_id\"].nunique()\n",
        "\n",
        "print(df.head())\n",
        "\n",
        "train_df,test_df=train_test_split(df,test_size=0.2,random_state=42)"
      ],
      "metadata": {
        "colab": {
          "base_uri": "https://localhost:8080/"
        },
        "id": "5aetRqf4s-qW",
        "outputId": "3d11e541-5a1a-4ec6-85fb-c32fd08477ff"
      },
      "execution_count": 47,
      "outputs": [
        {
          "output_type": "stream",
          "name": "stdout",
          "text": [
            "   user_id  movie_id  rating  timestamp                       title\n",
            "0      195       241       3  881250949                Kolya (1996)\n",
            "1      185       301       3  891717742    L.A. Confidential (1997)\n",
            "2       21       376       1  878887116         Heavyweights (1994)\n",
            "3      243        50       2  880606923  Legends of the Fall (1994)\n",
            "4      165       345       1  886397596         Jackie Brown (1997)\n"
          ]
        }
      ]
    },
    {
      "cell_type": "code",
      "source": [
        "class MovieDataset(Dataset):\n",
        "   def __init__(self,df) -> None:\n",
        "      self.users=torch.tensor(df[\"user_id\"].values,dtype=torch.long)\n",
        "      self.movie_id=torch.tensor(df[\"movie_id\"].values,dtype=torch.long)\n",
        "      self.rating=torch.tensor(df[\"rating\"].values,dtype=torch.float32)\n",
        "\n",
        "   def __len__(self):\n",
        "    return len(self.users)\n",
        "\n",
        "   def __getitem__(self,idx):\n",
        "    return self.users[idx],self.movie_id[idx],self.rating[idx]"
      ],
      "metadata": {
        "id": "zKN8FffCwnXr"
      },
      "execution_count": 48,
      "outputs": []
    },
    {
      "cell_type": "code",
      "source": [
        "train_dataset=MovieDataset(train_df)\n",
        "test_dataset=MovieDataset(test_df)\n",
        "\n",
        "train_loader=DataLoader(train_dataset,shuffle=True,batch_size=64)\n",
        "test_loader=DataLoader(test_dataset,batch_size=64)"
      ],
      "metadata": {
        "id": "qkOPOEqDyTvE"
      },
      "execution_count": 49,
      "outputs": []
    },
    {
      "cell_type": "code",
      "source": [
        "class MovieRecommender(nn.Module):\n",
        "  def __init__(self,n_users,n_movies,emb_size=32):\n",
        "    super().__init__()\n",
        "    self.user_emb=nn.Embedding(n_users,emb_size)\n",
        "    self.movie_emb=nn.Embedding(n_movies,emb_size)\n",
        "\n",
        "    self.fc=nn.Sequential(\n",
        "        nn.Linear(emb_size*2,64),\n",
        "        nn.ReLU(),\n",
        "        nn.Linear(64,32),\n",
        "        nn.ReLU(),\n",
        "        nn.Linear(32,1)\n",
        "    )\n",
        "  def forward(self,user,movie):\n",
        "    u=self.user_emb(user)\n",
        "    m=self.movie_emb(movie)\n",
        "    x=torch.cat([u,m],dim=1)\n",
        "    output=self.fc(x)\n",
        "    return output"
      ],
      "metadata": {
        "id": "CUZ83SZja1po"
      },
      "execution_count": 50,
      "outputs": []
    },
    {
      "cell_type": "code",
      "source": [
        "model = MovieRecommender(n_users, n_movies)\n",
        "criterion = nn.MSELoss()\n",
        "optimizer = torch.optim.Adam(model.parameters(), lr=0.01)\n",
        "\n",
        "for epoch in range(30):  # Increase epochs for better results\n",
        "    model.train()\n",
        "    total_loss = 0\n",
        "    for user, movie, rating in train_loader:\n",
        "        optimizer.zero_grad()\n",
        "        pred = model(user, movie)\n",
        "        loss = criterion(pred.squeeze(), rating)\n",
        "        loss.backward()\n",
        "        optimizer.step()\n",
        "        total_loss += loss.item()\n",
        "    print(f\"Epoch {epoch+1}, Loss: {total_loss/len(train_loader):.4f}\")\n"
      ],
      "metadata": {
        "id": "pFDxlvoBzJYT",
        "colab": {
          "base_uri": "https://localhost:8080/"
        },
        "outputId": "dae86ef2-9908-41ac-f699-5c6a44ec4ea7"
      },
      "execution_count": 54,
      "outputs": [
        {
          "output_type": "stream",
          "name": "stdout",
          "text": [
            "Epoch 1, Loss: 1.1520\n",
            "Epoch 2, Loss: 0.9216\n",
            "Epoch 3, Loss: 0.8748\n",
            "Epoch 4, Loss: 0.8407\n",
            "Epoch 5, Loss: 0.8040\n",
            "Epoch 6, Loss: 0.7656\n",
            "Epoch 7, Loss: 0.7259\n",
            "Epoch 8, Loss: 0.6865\n",
            "Epoch 9, Loss: 0.6488\n",
            "Epoch 10, Loss: 0.6182\n",
            "Epoch 11, Loss: 0.5854\n",
            "Epoch 12, Loss: 0.5618\n",
            "Epoch 13, Loss: 0.5372\n",
            "Epoch 14, Loss: 0.5147\n",
            "Epoch 15, Loss: 0.4955\n",
            "Epoch 16, Loss: 0.4798\n",
            "Epoch 17, Loss: 0.4615\n",
            "Epoch 18, Loss: 0.4467\n",
            "Epoch 19, Loss: 0.4348\n",
            "Epoch 20, Loss: 0.4156\n",
            "Epoch 21, Loss: 0.4103\n",
            "Epoch 22, Loss: 0.3976\n",
            "Epoch 23, Loss: 0.3907\n",
            "Epoch 24, Loss: 0.3829\n",
            "Epoch 25, Loss: 0.3697\n",
            "Epoch 26, Loss: 0.3612\n",
            "Epoch 27, Loss: 0.3528\n",
            "Epoch 28, Loss: 0.3494\n",
            "Epoch 29, Loss: 0.3428\n",
            "Epoch 30, Loss: 0.3340\n"
          ]
        }
      ]
    },
    {
      "cell_type": "code",
      "source": [
        "model.eval()\n",
        "user_id = 10  # Example user\n",
        "\n",
        "all_movies = torch.tensor(range(n_movies))\n",
        "user_tensor = torch.tensor([user_id]*n_movies)\n",
        "\n",
        "with torch.no_grad():\n",
        "    scores = model(user_tensor, all_movies)\n",
        "print(scores)\n",
        "# Get top 5 recommended movies\n",
        "top5 = torch.topk(scores.squeeze(), 5).indices\n",
        "print(\"Top 5 recommended movie IDs:\", top5.tolist())\n"
      ],
      "metadata": {
        "colab": {
          "base_uri": "https://localhost:8080/"
        },
        "id": "Iyr1Rlzhit1g",
        "outputId": "96be6840-85ae-42b9-da80-69305887859c"
      },
      "execution_count": 62,
      "outputs": [
        {
          "output_type": "stream",
          "name": "stdout",
          "text": [
            "tensor([[2.6551],\n",
            "        [2.5377],\n",
            "        [4.3461],\n",
            "        ...,\n",
            "        [2.5579],\n",
            "        [4.1332],\n",
            "        [3.1815]])\n",
            "Top 5 recommended movie IDs: [1404, 1635, 514, 317, 222]\n"
          ]
        }
      ]
    }
  ]
}