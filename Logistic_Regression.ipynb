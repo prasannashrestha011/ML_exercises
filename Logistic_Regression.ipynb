{
  "nbformat": 4,
  "nbformat_minor": 0,
  "metadata": {
    "colab": {
      "provenance": [],
      "authorship_tag": "ABX9TyOupCyoo7rbTWW6qZajVR7x",
      "include_colab_link": true
    },
    "kernelspec": {
      "name": "python3",
      "display_name": "Python 3"
    },
    "language_info": {
      "name": "python"
    }
  },
  "cells": [
    {
      "cell_type": "markdown",
      "metadata": {
        "id": "view-in-github",
        "colab_type": "text"
      },
      "source": [
        "<a href=\"https://colab.research.google.com/github/prasannashrestha011/ML_exercises/blob/main/Logistic_Regression.ipynb\" target=\"_parent\"><img src=\"https://colab.research.google.com/assets/colab-badge.svg\" alt=\"Open In Colab\"/></a>"
      ]
    },
    {
      "cell_type": "code",
      "execution_count": 41,
      "metadata": {
        "id": "-vM8e3Kx1H39"
      },
      "outputs": [],
      "source": [
        "import numpy as np"
      ]
    },
    {
      "cell_type": "code",
      "source": [
        "def sigmoid(z):\n",
        "  return 1/(1+np.exp(-z))"
      ],
      "metadata": {
        "id": "ZSg5O_5-1Jze"
      },
      "execution_count": 42,
      "outputs": []
    },
    {
      "cell_type": "code",
      "source": [
        "#cost function\n",
        "def compute_cost(X,y,w):\n",
        "  m=len(y)\n",
        "  h=sigmoid(X @ w)\n",
        "  cost=-1/m * np.sum(y*np.log(h)+(1-y)*np.log(1-h))\n",
        "  return cost"
      ],
      "metadata": {
        "id": "fVenZ3qU1TJO"
      },
      "execution_count": 43,
      "outputs": []
    },
    {
      "cell_type": "code",
      "source": [
        "#gradient computation\n",
        "def compute_gradient(X,y,w):\n",
        "  m=len(y)\n",
        "  h=sigmoid(X @ w)\n",
        "  gradient=(1/m)*(X.T @(h-y))\n",
        "  return gradient"
      ],
      "metadata": {
        "id": "AlqE0xp-2cEs"
      },
      "execution_count": 44,
      "outputs": []
    },
    {
      "cell_type": "code",
      "source": [
        "# gradient descent\n",
        "def gradient_descent(X,y,w,lr,iterations):\n",
        "  cost_history=[]\n",
        "  for _ in range(iterations):\n",
        "    grad=compute_gradient(X,y,w)\n",
        "    w-=lr*grad\n",
        "    cost_history.append(compute_cost(X,y,w))\n",
        "  return w,cost_history"
      ],
      "metadata": {
        "id": "SRl55wPz6-hr"
      },
      "execution_count": 45,
      "outputs": []
    },
    {
      "cell_type": "code",
      "source": [
        "def predict(X,w):\n",
        "  probabilites=sigmoid(X @ w)\n",
        "  return (probabilites>=0.5).astype(int)"
      ],
      "metadata": {
        "id": "luLvY8v_7oFR"
      },
      "execution_count": 46,
      "outputs": []
    },
    {
      "cell_type": "code",
      "source": [
        "\n",
        "X = np.array([[1, 2], [1, 3], [2, 4], [3, 5], [5, 7]])\n",
        "y = np.array([0, 0, 0, 1, 1])\n",
        "\n",
        "X = np.c_[np.ones(X.shape[0]), X]\n",
        "\n",
        "# Initialize parameters\n",
        "w = np.zeros(X.shape[1])\n",
        "\n",
        "# Train model\n",
        "theta, cost_history = gradient_descent(X, y, w, lr=0.1, iterations=1000)\n",
        "\n",
        "print(\"Final parameters:\", w)\n",
        "print(\"Final cost:\", cost_history[-1])\n",
        "\n",
        "\n",
        "preds = predict(X, w)\n",
        "print(\"Predictions:\", preds)\n"
      ],
      "metadata": {
        "colab": {
          "base_uri": "https://localhost:8080/"
        },
        "id": "zIXd_6LK7zAu",
        "outputId": "d82a2003-2cb8-4c74-a47b-dd30ba98edea"
      },
      "execution_count": 48,
      "outputs": [
        {
          "output_type": "stream",
          "name": "stdout",
          "text": [
            "Final parameters: [-4.25292004  4.12437935 -1.33500192]\n",
            "Final cost: 0.10385040339329062\n",
            "Predictions: [0 0 0 1 1]\n"
          ]
        }
      ]
    },
    {
      "cell_type": "code",
      "source": [
        "import matplotlib.pyplot as plt\n",
        "\n",
        "plt.plot(cost_history)\n",
        "plt.xlabel(\"Iteration\")\n",
        "plt.ylabel(\"Cost\")\n",
        "plt.title(\"Cost over iterations\")\n",
        "plt.show()\n"
      ],
      "metadata": {
        "colab": {
          "base_uri": "https://localhost:8080/",
          "height": 472
        },
        "id": "E2hCTUVcvUR7",
        "outputId": "50099bb3-1dca-47ce-e037-dae651dead40"
      },
      "execution_count": 49,
      "outputs": [
        {
          "output_type": "display_data",
          "data": {
            "text/plain": [
              "<Figure size 640x480 with 1 Axes>"
            ],
            "image/png": "[encoded data removed]"
          },
          "metadata": {}
        }
      ]
    }
  ]
}